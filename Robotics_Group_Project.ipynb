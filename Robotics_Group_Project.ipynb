{
  "nbformat": 4,
  "nbformat_minor": 0,
  "metadata": {
    "colab": {
      "provenance": [],
      "collapsed_sections": [],
      "include_colab_link": true
    },
    "kernelspec": {
      "name": "python3",
      "display_name": "Python 3"
    },
    "language_info": {
      "name": "python"
    },
    "accelerator": "GPU"
  },
  "cells": [
    {
      "cell_type": "markdown",
      "metadata": {
        "id": "view-in-github",
        "colab_type": "text"
      },
      "source": [
        "<a href=\"https://colab.research.google.com/github/sophiadt/robot-waiter-AI/blob/main/Robotics_Group_Project.ipynb\" target=\"_parent\"><img src=\"https://colab.research.google.com/assets/colab-badge.svg\" alt=\"Open In Colab\"/></a>"
      ]
    },
    {
      "cell_type": "markdown",
      "metadata": {
        "id": "rLOvw52upRHP"
      },
      "source": [
        "# Setup\n",
        "\n",
        "We will be using GPU runtime with a CUDA backend. Let's change the runtime.\n",
        "\n",
        "**Runtime ⟶ Change runtime type ⟶ Hardware accelerator: GPU ⟶ Save**\n",
        "\n",
        "First we will install the libraries and download the datasets. This may take a few minutes."
      ]
    },
    {
      "cell_type": "code",
      "metadata": {
        "id": "oJN4oxukpnn4",
        "colab": {
          "base_uri": "https://localhost:8080/"
        },
        "outputId": "8f620d55-1e1d-45d6-fda3-de967527b179"
      },
      "source": [
        "# install packages\n",
        "!apt-get install build-essential cmake\n",
        "!apt-get install libopenblas-dev liblapack-dev \n",
        "!pip3 install dlib\n",
        "!pip3 install face_recognition"
      ],
      "execution_count": null,
      "outputs": [
        {
          "output_type": "stream",
          "text": [
            "Reading package lists... Done\n",
            "Building dependency tree       \n",
            "Reading state information... Done\n",
            "build-essential is already the newest version (12.4ubuntu1).\n",
            "cmake is already the newest version (3.10.2-1ubuntu2.18.04.1).\n",
            "0 upgraded, 0 newly installed, 0 to remove and 40 not upgraded.\n",
            "Reading package lists... Done\n",
            "Building dependency tree       \n",
            "Reading state information... Done\n",
            "liblapack-dev is already the newest version (3.7.1-4ubuntu1).\n",
            "libopenblas-dev is already the newest version (0.2.20+ds-4).\n",
            "0 upgraded, 0 newly installed, 0 to remove and 40 not upgraded.\n",
            "Requirement already satisfied: dlib in /usr/local/lib/python3.7/dist-packages (19.18.0)\n",
            "Collecting face_recognition\n",
            "  Downloading face_recognition-1.3.0-py2.py3-none-any.whl (15 kB)\n",
            "Collecting face-recognition-models>=0.3.0\n",
            "  Downloading face_recognition_models-0.3.0.tar.gz (100.1 MB)\n",
            "\u001b[K     |████████████████████████████████| 100.1 MB 6.5 kB/s \n",
            "\u001b[?25hRequirement already satisfied: numpy in /usr/local/lib/python3.7/dist-packages (from face_recognition) (1.19.5)\n",
            "Requirement already satisfied: dlib>=19.7 in /usr/local/lib/python3.7/dist-packages (from face_recognition) (19.18.0)\n",
            "Requirement already satisfied: Pillow in /usr/local/lib/python3.7/dist-packages (from face_recognition) (7.1.2)\n",
            "Requirement already satisfied: Click>=6.0 in /usr/local/lib/python3.7/dist-packages (from face_recognition) (7.1.2)\n",
            "Building wheels for collected packages: face-recognition-models\n",
            "  Building wheel for face-recognition-models (setup.py) ... \u001b[?25l\u001b[?25hdone\n",
            "  Created wheel for face-recognition-models: filename=face_recognition_models-0.3.0-py2.py3-none-any.whl size=100566184 sha256=0f8069d3940158340d4e9049b9e68d02c43db294e020772885c8aefd08258e85\n",
            "  Stored in directory: /root/.cache/pip/wheels/d6/81/3c/884bcd5e1c120ff548d57c2ecc9ebf3281c9a6f7c0e7e7947a\n",
            "Successfully built face-recognition-models\n",
            "Installing collected packages: face-recognition-models, face-recognition\n",
            "Successfully installed face-recognition-1.3.0 face-recognition-models-0.3.0\n"
          ],
          "name": "stdout"
        }
      ]
    },
    {
      "cell_type": "code",
      "metadata": {
        "id": "JXBUt7mLpEBj",
        "colab": {
          "base_uri": "https://localhost:8080/"
        },
        "outputId": "aac4bd5a-658e-446c-c2b8-ec1a7d248b10"
      },
      "source": [
        "!rm -r ./sample_data/\n",
        "!gdown --id 1IsYNzt2CRM3RhZ9EEipOYpdPRTHwBXY6\n",
        "!unzip project.zip\n",
        "!rm project.zip"
      ],
      "execution_count": null,
      "outputs": [
        {
          "output_type": "stream",
          "text": [
            "Downloading...\n",
            "From: https://drive.google.com/uc?id=1IsYNzt2CRM3RhZ9EEipOYpdPRTHwBXY6\n",
            "To: /content/project.zip\n",
            "\r  0% 0.00/800k [00:00<?, ?B/s]\r100% 800k/800k [00:00<00:00, 53.4MB/s]\n",
            "Archive:  project.zip\n",
            "   creating: customers/\n",
            "   creating: customers/1/\n",
            "  inflating: customers/1/1.jpg       \n",
            "   creating: customers/0/\n",
            "  inflating: customers/0/2.jpg       \n",
            "   creating: customers/3/\n",
            "  inflating: customers/3/3.jpg       \n",
            "   creating: customers/4/\n",
            "  inflating: customers/4/4.jpg       \n",
            "   creating: customers/2/\n",
            "  inflating: customers/2/5.jpg       \n",
            "   creating: floorplan/\n",
            "  inflating: floorplan/restaurant_1.png  \n",
            "   creating: orders/\n",
            "  inflating: orders/rey.jpg          \n"
          ],
          "name": "stdout"
        }
      ]
    },
    {
      "cell_type": "code",
      "metadata": {
        "id": "dP_4sXSgtiAe"
      },
      "source": [
        "# import libraries\n",
        "import os\n",
        "\n",
        "import numpy as np\n",
        "from skimage.feature import hog\n",
        "from skimage import data, exposure\n",
        "import face_recognition\n",
        "\n",
        "from PIL import Image, ImageEnhance, ImageDraw\n",
        "import IPython.display\n",
        "import matplotlib\n",
        "import matplotlib.pyplot as plt\n",
        "import matplotlib.patches as patches\n",
        "%matplotlib inline\n",
        "\n",
        "font_config = {'size': 16}\n",
        "fig_config = {'figsize': (12, 8)}\n",
        "line_config = {'linewidth': 4}\n",
        "plt.rc('font', **font_config)\n",
        "plt.rc('figure', **fig_config)\n",
        "plt.rc('lines', **line_config)\n",
        "\n",
        "rc = {\"axes.spines.left\" : False,\n",
        "      \"axes.spines.right\" : False,\n",
        "      \"axes.spines.bottom\" : False,\n",
        "      \"axes.spines.top\" : False,\n",
        "      \"xtick.bottom\" : False,\n",
        "      \"xtick.labelbottom\" : False,\n",
        "      \"ytick.labelleft\" : False,\n",
        "      \"ytick.left\" : False}\n",
        "plt.rcParams.update(rc)"
      ],
      "execution_count": null,
      "outputs": []
    },
    {
      "cell_type": "markdown",
      "metadata": {
        "id": "CVCPHc2fp9zD"
      },
      "source": [
        "# Read images and setup environment\n",
        "\n",
        "The folder structure is as follows:\n",
        "\n",
        "```\n",
        "├── customers\n",
        "│   ├── 1\n",
        "│   ├── ├── <somename>.jpg\n",
        "│   ├── 2\n",
        "│   ├── ├── <somename>.jpg\n",
        "│   ├── ...\n",
        "├── orders/\n",
        "│   ├── <somename1>.jpg\n",
        "│   └── <somename2>.jpg\n",
        "└── floorplan/\n",
        "│   ├── <floor>.jpg\n",
        "```\n",
        "We have added one image per customer, one image for the customer who placed an order, and one floorplan image. You can follow the training example from the lesson and add more images per person, and add multiple orders. The sample floorplan is a 32x32 image where the black colored cells represent obstacles.\n",
        "\n",
        "We will randomly generate robot location and location of each customer in the walkable area.\n",
        "\n"
      ]
    },
    {
      "cell_type": "code",
      "metadata": {
        "id": "oCndQ6OHrcFf",
        "colab": {
          "base_uri": "https://localhost:8080/",
          "height": 589
        },
        "outputId": "7a69de96-a812-4b98-a6f0-f287d7e2ca6c"
      },
      "source": [
        "# np.random.seed(0)     # seed random generator if you want to reproduce the results\n",
        "\n",
        "floorplan = plt.imread('floorplan/restaurant_1.png')[:, :, 0]\n",
        "customers = [c for c in os.listdir('customers/') if not c.startswith('.')]\n",
        "print(f\"Found {len(customers)} customers.\", floorplan.shape)\n",
        "\n",
        "# find white cells and obstacles in floorplan\n",
        "free_space = np.asarray(np.where(floorplan == 1)).T\n",
        "obstacles = np.asarray(np.where(floorplan == 0)).T\n",
        "\n",
        "#select random positions for robot and customers\n",
        "idx_robot = np.random.choice(len(free_space))\n",
        "position_robot = free_space[idx_robot]\n",
        "print(f\"Robot position is {position_robot}\")\n",
        "\n",
        "idx_customer = np.random.choice(len(free_space), len(customers))\n",
        "position_customers = free_space[idx_customer]\n",
        "for i, customer in enumerate(customers):\n",
        "  print(f\"Customer {customer} is at {position_customers[i]}\")\n",
        "\n",
        "plt.figure()\n",
        "figure_bounds = np.asarray([0, floorplan.shape[0], 0, floorplan.shape[1]]) -0.5   # (x,y) is the center of cell\n",
        "plt.imshow(np.flipud(floorplan.T), extent=figure_bounds, cmap='Greys_r')          # images and matrixes are indexed differently. Use this to plot floorplan image.\n",
        "plt.scatter(position_robot[0], position_robot[1], c='b')\n",
        "plt.scatter(position_customers[:, 0], position_customers[:, 1], c='r')\n",
        "plt.show()"
      ],
      "execution_count": null,
      "outputs": [
        {
          "output_type": "stream",
          "text": [
            "Found 5 customers. (32, 32)\n",
            "Robot position is [18  8]\n",
            "Customer 1 is at [26 17]\n",
            "Customer 4 is at [13 19]\n",
            "Customer 2 is at [ 2 17]\n",
            "Customer 0 is at [10  8]\n",
            "Customer 3 is at [14 24]\n"
          ],
          "name": "stdout"
        },
        {
          "output_type": "display_data",
          "data": {
            "image/png": "[encoded data removed]",
            "text/plain": [
              "<Figure size 864x576 with 1 Axes>"
            ]
          },
          "metadata": {
            "tags": []
          }
        }
      ]
    },
    {
      "cell_type": "markdown",
      "metadata": {
        "id": "xstcWJAb0Tuw"
      },
      "source": [
        "For each order identify which customer has placed the order."
      ]
    },
    {
      "cell_type": "code",
      "metadata": {
        "id": "UtEzm_x_0TGh"
      },
      "source": [
        "# Write code to train and predict face recognition\n",
        "# Hint: get relevant code from the lesson\n",
        "import math\n",
        "import os\n",
        "import os.path\n",
        "import pickle\n",
        "\n",
        "from sklearn import neighbors\n",
        "from face_recognition.face_recognition_cli import image_files_in_folder\n",
        "\n",
        "ALLOWED_EXTENSIONS = {'png', 'jpg', 'jpeg'}"
      ],
      "execution_count": null,
      "outputs": []
    },
    {
      "cell_type": "code",
      "metadata": {
        "id": "0HbKFFqU43Fa"
      },
      "source": [
        "def train(train_dir, model_save_path=None, n_neighbors=None, knn_algo='ball_tree', verbose=False):\n",
        "    '''\n",
        "    :param train_dir: directory that contains a sub-directory for each known person, with its name.\n",
        "     (View in source code to see train_dir example tree structure)\n",
        "     Structure:\n",
        "        <train_dir>/\n",
        "        ├── <person1>/\n",
        "        │   ├── <somename1>.jpeg\n",
        "        │   ├── <somename2>.jpeg\n",
        "        │   ├── ...\n",
        "        ├── <person2>/\n",
        "        │   ├── <somename1>.jpeg\n",
        "        │   └── <somename2>.jpeg\n",
        "        └── ...\n",
        "    :param model_save_path: (optional) path to save model on disk\n",
        "    :param n_neighbors: (optional) number of neighbors to weigh in classification. Chosen automatically if not specified\n",
        "    :param knn_algo: (optional) underlying data structure to support knn.default is ball_tree\n",
        "    :param verbose: verbosity of training\n",
        "    :return: returns knn classifier that was trained on the given data.\n",
        "     '''\n",
        "    X = []\n",
        "    y = []\n",
        "\n",
        "    # Loop through each person in the training set\n",
        "    for class_dir in os.listdir(train_dir):\n",
        "        if not os.path.isdir(os.path.join(train_dir, class_dir)):\n",
        "            continue\n",
        "\n",
        "        # Loop through each training image for the current person\n",
        "        for img_path in image_files_in_folder(os.path.join(train_dir, class_dir)):\n",
        "            image = face_recognition.load_image_file(img_path)\n",
        "            face_bounding_boxes = face_recognition.face_locations(image)\n",
        "\n",
        "            if len(face_bounding_boxes) != 1:\n",
        "                # If there are no people (or too many people) in a training image, skip the image.\n",
        "                if verbose:\n",
        "                    print(\"Image {} not suitable for training: {}\".format(img_path, \"Didn't find a face\" if len(face_bounding_boxes) < 1 else \"Found more than one face\"))\n",
        "            else:\n",
        "                # Add face encoding for current image to the training set\n",
        "                X.append(face_recognition.face_encodings(image, known_face_locations=face_bounding_boxes)[0])\n",
        "                y.append(class_dir)\n",
        "\n",
        "    # Determine how many neighbors to use for weighting in the KNN classifier\n",
        "    if n_neighbors is None:\n",
        "        n_neighbors = int(round(math.sqrt(len(X))))\n",
        "        if verbose:\n",
        "            print(\"Chose n_neighbors automatically:\", n_neighbors)\n",
        "\n",
        "    # Create and train the KNN classifier\n",
        "    knn_clf = neighbors.KNeighborsClassifier(n_neighbors=n_neighbors, algorithm=knn_algo, weights='distance')\n",
        "    knn_clf.fit(X, y)\n",
        "\n",
        "    # Save the trained KNN classifier\n",
        "    if model_save_path is not None:\n",
        "        with open(model_save_path, 'wb') as f:\n",
        "            pickle.dump(knn_clf, f)\n",
        "\n",
        "    return knn_clf"
      ],
      "execution_count": null,
      "outputs": []
    },
    {
      "cell_type": "code",
      "metadata": {
        "id": "czwGc9C64-DN"
      },
      "source": [
        "def predict(X_img_path, knn_clf=None, model_path=None, distance_threshold=0.6):\n",
        "    \"\"\"\n",
        "    Recognizes faces in given image using a trained KNN classifier\n",
        "    :param X_img_path: path to image to be recognized\n",
        "    :param knn_clf: (optional) a knn classifier object. if not specified, model_save_path must be specified.\n",
        "    :param model_path: (optional) path to a pickled knn classifier. if not specified, model_save_path must be knn_clf.\n",
        "    :param distance_threshold: (optional) distance threshold for face classification. the larger it is, the more chance\n",
        "           of mis-classifying an unknown person as a known one.\n",
        "    :return: a list of names and face locations for the recognized faces in the image: [(name, bounding box), ...].\n",
        "        For faces of unrecognized persons, the name 'unknown' will be returned.\n",
        "    \"\"\"\n",
        "    \n",
        "    # Load a trained KNN model (if one was passed in)\n",
        "    if knn_clf is None:\n",
        "        with open(model_path, 'rb') as f:\n",
        "            knn_clf = pickle.load(f)\n",
        "\n",
        "    # Load image file and find face locations\n",
        "    X_img = face_recognition.load_image_file(X_img_path)\n",
        "    X_face_locations = face_recognition.face_locations(X_img)\n",
        "\n",
        "    # If no faces are found in the image, return an empty result.\n",
        "    if len(X_face_locations) == 0:\n",
        "        return []\n",
        "\n",
        "    # Find encodings for faces in the test iamge\n",
        "    faces_encodings = face_recognition.face_encodings(X_img, known_face_locations=X_face_locations)\n",
        "\n",
        "    # Use the KNN model to find the best matches for the test face\n",
        "    closest_distances = knn_clf.kneighbors(faces_encodings, n_neighbors=2)\n",
        "    are_matches = [closest_distances[0][i][0] <= distance_threshold for i in range(len(X_face_locations))]\n",
        "\n",
        "    # Predict classes and remove classifications that aren't within the threshold\n",
        "    return [(pred, loc) if rec else (\"unknown\", loc) for pred, loc, rec in zip(knn_clf.predict(faces_encodings), X_face_locations, are_matches)]\n"
      ],
      "execution_count": null,
      "outputs": []
    },
    {
      "cell_type": "code",
      "metadata": {
        "id": "HZwyDDGI5Bsc"
      },
      "source": [
        "def show_prediction_labels_on_image(img_path, predictions):\n",
        "    \"\"\"\n",
        "    :param img_path: path to image to be recognized\n",
        "    :param predictions: results of the predict function\n",
        "    :return:\n",
        "    \"\"\"\n",
        "    pil_image = plt.imread(img_path)\n",
        "    fig,ax = plt.subplots(1)\n",
        "    ax.imshow(pil_image)\n",
        "    \n",
        "    for name, (top, right, bottom, left) in predictions:\n",
        "        # Draw a box around the face using the Pillow module\n",
        "        color = tuple(np.random.rand(3))\n",
        "        ax.add_patch(patches.Rectangle((left, top), right-left, bottom-top, fill=False, color=color)) \n",
        "        # Add the name under the face bounding box\n",
        "        ax.text(left, bottom, name,  horizontalalignment='left', verticalalignment='top',\n",
        "                bbox={'facecolor':color,'alpha':0.4, 'pad':1})\n",
        "    plt.show()"
      ],
      "execution_count": null,
      "outputs": []
    },
    {
      "cell_type": "code",
      "metadata": {
        "id": "8HXOYeuK18Zb",
        "colab": {
          "base_uri": "https://localhost:8080/"
        },
        "outputId": "f305078e-f576-4d23-def0-ca02657be92a"
      },
      "source": [
        "# STEP 1: Train the KNN classifier and save it to disk\n",
        "# Once the model is trained and saved, you can skip this step next time.\n",
        "print(\"Training KNN classifier...\")\n",
        "if not os.path.exists('out'):\n",
        "      os.makedirs(\"out\")\n",
        "classifier = train(\"customers\", model_save_path=\"out/trained_knn_model.clf\", n_neighbors=1)\n",
        "print(\"Training complete!\")\n",
        "\n",
        "# STEP 2: Using the trained classifier, make predictions for unknown image. (We only have one image)\n",
        "image_file = [f for f in os.listdir(\"orders\") if f.endswith('.jpg')][0]\n",
        "full_file_path = os.path.join(\"orders\", image_file)\n",
        "\n",
        "print(\"Looking for faces in {}\".format(image_file))\n",
        "\n",
        "# Find the person in the image using a trained classifier model\n",
        "predictions = predict(full_file_path, model_path=\"out/trained_knn_model.clf\")\n",
        "\n",
        "# We only have one person in the image.\n",
        "name, location = predictions[0]\n",
        "\n",
        "print(\"Identified {} as customer {}\".format(image_file.split('.')[0], name))\n",
        "print(\"{} is at position {}\".format(image_file.split('.')[0], position_customers[int(name)]))"
      ],
      "execution_count": null,
      "outputs": [
        {
          "output_type": "stream",
          "text": [
            "Training KNN classifier...\n",
            "Training complete!\n",
            "Looking for faces in rey.jpg\n",
            "Identified rey as customer 2\n",
            "rey is at position [ 2 17]\n"
          ],
          "name": "stdout"
        }
      ]
    },
    {
      "cell_type": "markdown",
      "metadata": {
        "id": "FZMyOscE4sbr"
      },
      "source": [
        "Now use any Path planning algorithm with robot position as start node and customer position as end node"
      ]
    },
    {
      "cell_type": "code",
      "metadata": {
        "id": "8vPjnezgucHA"
      },
      "source": [
        "class Env:\n",
        "    def __init__(self):\n",
        "        self.x_range = 32  # size of background\n",
        "        self.y_range = 32\n",
        "        self.motions = [(-1, 0), (-1, 1), (0, 1), (1, 1),\n",
        "                        (1, 0), (1, -1), (0, -1), (-1, -1)]\n",
        "        self.obs = self.obs_map()\n",
        "\n",
        "    def update_obs(self, obs):\n",
        "        self.obs = obs\n",
        "\n",
        "    def obs_map(self):\n",
        "        \"\"\"\n",
        "        Initialize obstacles' positions\n",
        "        :return: map of obstacles\n",
        "        \"\"\"\n",
        "\n",
        "        x = self.x_range\n",
        "        y = self.y_range\n",
        "        obs = set()\n",
        "\n",
        "        obstacles = np.asarray(np.where(floorplan == 0)).T\n",
        "        obs = set()\n",
        "        for i in range(len(obstacles)):\n",
        "          obs.add((obstacles[i, 0], obstacles[i, 1]))\n",
        "\n",
        "\n",
        "        return obs"
      ],
      "execution_count": null,
      "outputs": []
    },
    {
      "cell_type": "code",
      "metadata": {
        "id": "2wr54BD9uWKG"
      },
      "source": [
        "import os\n",
        "import sys\n",
        "import matplotlib.pyplot as plt\n",
        "\n",
        "class Plotting:\n",
        "    def __init__(self, xI, xG):\n",
        "        self.xI, self.xG = xI, xG\n",
        "        self.env = Env()\n",
        "        self.obs = self.env.obs_map()\n",
        "\n",
        "    def update_obs(self, obs):\n",
        "        self.obs = obs\n",
        "\n",
        "    def animation(self, path, visited, name):\n",
        "        self.plot_grid(name)\n",
        "        self.plot_visited(visited)\n",
        "        self.plot_path(path)\n",
        "        plt.show()\n",
        "\n",
        "    def animation_lrta(self, path, visited, name):\n",
        "        self.plot_grid(name)\n",
        "        cl = self.color_list_2()\n",
        "        path_combine = []\n",
        "\n",
        "        for k in range(len(path)):\n",
        "            self.plot_visited(visited[k], cl[k])\n",
        "            plt.pause(0.2)\n",
        "            self.plot_path(path[k])\n",
        "            path_combine += path[k]\n",
        "            plt.pause(0.2)\n",
        "        if self.xI in path_combine:\n",
        "            path_combine.remove(self.xI)\n",
        "        self.plot_path(path_combine)\n",
        "        plt.show()\n",
        "\n",
        "    def animation_ara_star(self, path, visited, name):\n",
        "        self.plot_grid(name)\n",
        "        cl_v, cl_p = self.color_list()\n",
        "\n",
        "        for k in range(len(path)):\n",
        "            self.plot_visited(visited[k], cl_v[k])\n",
        "            self.plot_path(path[k], cl_p[k], True)\n",
        "            plt.pause(0.5)\n",
        "\n",
        "        plt.show()\n",
        "\n",
        "    def animation_bi_astar(self, path, v_fore, v_back, name):\n",
        "        self.plot_grid(name)\n",
        "        self.plot_visited_bi(v_fore, v_back)\n",
        "        self.plot_path(path)\n",
        "        plt.show()\n",
        "\n",
        "    def plot_grid(self, name):\n",
        "        obs_x = [x[0] for x in self.obs]\n",
        "        obs_y = [x[1] for x in self.obs]\n",
        "\n",
        "        plt.plot(self.xI[0], self.xI[1], \"bs\")\n",
        "        plt.plot(self.xG[0], self.xG[1], \"gs\")\n",
        "        plt.plot(obs_x, obs_y, \"sk\")\n",
        "        plt.title(name)\n",
        "        plt.axis(\"equal\")\n",
        "\n",
        "    def plot_visited(self, visited, cl='gray'):\n",
        "        if self.xI in visited:\n",
        "            visited.remove(self.xI)\n",
        "\n",
        "        if self.xG in visited:\n",
        "            visited.remove(self.xG)\n",
        "\n",
        "        count = 0\n",
        "\n",
        "        for x in visited:\n",
        "            count += 1\n",
        "            plt.plot(x[0], x[1], color=cl, marker='o')\n",
        "            plt.gcf().canvas.mpl_connect('key_release_event',\n",
        "                                         lambda event: [exit(0) if event.key == 'escape' else None])\n",
        "\n",
        "            if count < len(visited) / 3:\n",
        "                length = 20\n",
        "            elif count < len(visited) * 2 / 3:\n",
        "                length = 30\n",
        "            else:\n",
        "                length = 40\n",
        "            #\n",
        "            # length = 15\n",
        "\n",
        "            if count % length == 0:\n",
        "                plt.pause(0.001)\n",
        "        plt.pause(0.01)\n",
        "\n",
        "    def plot_path(self, path, cl='r', flag=False):\n",
        "        path_x = [path[i][0] for i in range(len(path))]\n",
        "        path_y = [path[i][1] for i in range(len(path))]\n",
        "\n",
        "        if not flag:\n",
        "            plt.plot(path_x, path_y, linewidth='3', color='r')\n",
        "        else:\n",
        "            plt.plot(path_x, path_y, linewidth='3', color=cl)\n",
        "\n",
        "        plt.plot(self.xI[0], self.xI[1], \"bs\")\n",
        "        plt.plot(self.xG[0], self.xG[1], \"gs\")\n",
        "\n",
        "        plt.pause(0.01)\n",
        "\n",
        "    def plot_visited_bi(self, v_fore, v_back):\n",
        "        if self.xI in v_fore:\n",
        "            v_fore.remove(self.xI)\n",
        "\n",
        "        if self.xG in v_back:\n",
        "            v_back.remove(self.xG)\n",
        "\n",
        "        len_fore, len_back = len(v_fore), len(v_back)\n",
        "\n",
        "        for k in range(max(len_fore, len_back)):\n",
        "            if k < len_fore:\n",
        "                plt.plot(v_fore[k][0], v_fore[k][1], linewidth='3', color='gray', marker='o')\n",
        "            if k < len_back:\n",
        "                plt.plot(v_back[k][0], v_back[k][1], linewidth='3', color='cornflowerblue', marker='o')\n",
        "\n",
        "            plt.gcf().canvas.mpl_connect('key_release_event',\n",
        "                                         lambda event: [exit(0) if event.key == 'escape' else None])\n",
        "\n",
        "            if k % 10 == 0:\n",
        "                plt.pause(0.001)\n",
        "        plt.pause(0.01)\n",
        "\n",
        "    @staticmethod\n",
        "    def color_list():\n",
        "        cl_v = ['silver',\n",
        "                'wheat',\n",
        "                'lightskyblue',\n",
        "                'royalblue',\n",
        "                'slategray']\n",
        "        cl_p = ['gray',\n",
        "                'orange',\n",
        "                'deepskyblue',\n",
        "                'red',\n",
        "                'm']\n",
        "        return cl_v, cl_p\n",
        "\n",
        "    @staticmethod\n",
        "    def color_list_2():\n",
        "        cl = ['silver',\n",
        "              'steelblue',\n",
        "              'dimgray',\n",
        "              'cornflowerblue',\n",
        "              'dodgerblue',\n",
        "              'royalblue',\n",
        "              'plum',\n",
        "              'mediumslateblue',\n",
        "              'mediumpurple',\n",
        "              'blueviolet',\n",
        "              ]\n",
        "        return cl"
      ],
      "execution_count": null,
      "outputs": []
    },
    {
      "cell_type": "code",
      "metadata": {
        "colab": {
          "base_uri": "https://localhost:8080/",
          "height": 1000
        },
        "id": "Gw7ioLB93nUh",
        "outputId": "6b9128a2-0256-4b2b-a7a4-263068bb8b98"
      },
      "source": [
        "# Write code here\n",
        "\"\"\"\n",
        "ITF 2021\n",
        "Author: Pedram  Agand\n",
        "pagand@sfu.ca\n",
        "\"\"\"\n",
        "\n",
        "import os\n",
        "import sys\n",
        "import math\n",
        "import heapq\n",
        "\n",
        "import matplotlib.pyplot as plt\n",
        "\n",
        "\n",
        "class AStar:\n",
        "    \"\"\"AStar set the cost + heuristics as the priority\n",
        "    \"\"\"\n",
        "    def __init__(self, s_start, s_goal, heuristic_type):\n",
        "        self.s_start = s_start #inital position\n",
        "        self.s_goal = s_goal #goal position \n",
        "        self.heuristic_type = heuristic_type \n",
        "\n",
        "        self.Env = Env()  # class Env\n",
        "\n",
        "        self.u_set = self.Env.motions  # feasible input set, up down right left\n",
        "        self.obs = self.Env.obs  # position of obstacles\n",
        "\n",
        "        self.OPEN = []  # priority queue / OPEN set\n",
        "        self.CLOSED = []  # CLOSED set / VISITED order\n",
        "        self.PARENT = dict()  # recorded parent\n",
        "        self.g = dict()  # cost to come\n",
        "\n",
        "    def searching(self):\n",
        "        \"\"\"\n",
        "        A_star Searching.\n",
        "        :return: path, visited order\n",
        "        \"\"\"\n",
        "\n",
        "        self.PARENT[self.s_start] = self.s_start\n",
        "        self.g[self.s_start] = 0\n",
        "        self.g[self.s_goal] = math.inf\n",
        "        heapq.heappush(self.OPEN,\n",
        "                       (self.f_value(self.s_start), self.s_start))\n",
        "\n",
        "        while self.OPEN:\n",
        "          _, s = heapq.heappop(self.OPEN)\n",
        "          self.CLOSED.append(s)\n",
        "          print(s)\n",
        "          \"\"\" Edit 1:\n",
        "          <put stop condition> \"\"\"\n",
        "          if s == self.s_goal: #s means current node, current position\n",
        "            print(\"Congrats! You've found the end!\")\n",
        "            break\n",
        "\n",
        "          for s_n in self.get_neighbor(s):\n",
        "            \"\"\" Edit 2:\n",
        "            <compute new_cost> \"\"\"\n",
        "            new_cost = self.g[s] + self.cost(s, s_n) #why were these the two parameters?\n",
        "#current cost + cost from current to end \n",
        "            if s_n not in self.g:\n",
        "                  self.g[s_n] = math.inf\n",
        "#incorrect position\n",
        "            if new_cost < self.g[s_n]: # conditions for updating Cost\n",
        "              \"\"\" Edit 3:\n",
        "              <update cost: g and PARENT elements> \"\"\"\n",
        "              self.g[s_n] = new_cost\n",
        "              self.PARENT[s_n] = s\n",
        "#less cost (better), closer to position ie. moving from est. 18-20(s)\n",
        "              heapq.heappush(self.OPEN, (self.f_value(s_n), s_n))\n",
        "\n",
        "        return self.extract_path(self.PARENT), self.CLOSED\n",
        "\n",
        "    def searching_repeated_astar(self, e):\n",
        "        \"\"\"\n",
        "        repeated A*.\n",
        "        :param e: weight of A*\n",
        "        :return: path and visited order\n",
        "        \"\"\"\n",
        "\n",
        "        path, visited = [], []\n",
        "\n",
        "        while e >= 1:\n",
        "            p_k, v_k = self.repeated_searching(self.s_start, self.s_goal, e)\n",
        "            path.append(p_k)\n",
        "            visited.append(v_k)\n",
        "            e -= 0.5\n",
        "\n",
        "        return path, visited\n",
        "\n",
        "    def repeated_searching(self, s_start, s_goal, e):\n",
        "        \"\"\"\n",
        "        run A* with weight e.\n",
        "        :param s_start: starting state\n",
        "        :param s_goal: goal state\n",
        "        :param e: weight of a*\n",
        "        :return: path and visited order.\n",
        "        \"\"\"\n",
        "\n",
        "        g = {s_start: 0, s_goal: float(\"inf\")}\n",
        "        PARENT = {s_start: s_start}\n",
        "        OPEN = []\n",
        "        CLOSED = []\n",
        "        heapq.heappush(OPEN,\n",
        "                       (g[s_start] + e * self.heuristic(s_start), s_start))\n",
        "\n",
        "        while OPEN:\n",
        "            _, s = heapq.heappop(OPEN)\n",
        "            CLOSED.append(s)\n",
        "\n",
        "            if s == s_goal:\n",
        "                break\n",
        "\n",
        "            for s_n in self.get_neighbor(s):\n",
        "                new_cost = g[s] + self.cost(s, s_n)\n",
        "\n",
        "                if s_n not in g:\n",
        "                    g[s_n] = math.inf\n",
        "\n",
        "                if new_cost < g[s_n]:  # conditions for updating Cost\n",
        "                    g[s_n] = new_cost\n",
        "                    PARENT[s_n] = s\n",
        "                    heapq.heappush(OPEN, (g[s_n] + e * self.heuristic(s_n), s_n))\n",
        "\n",
        "        return self.extract_path(PARENT), CLOSED\n",
        "\n",
        "    def get_neighbor(self, s):\n",
        "        \"\"\"\n",
        "        find neighbors of state s that not in obstacles.\n",
        "        :param s: state\n",
        "        :return: neighbors\n",
        "        \"\"\"\n",
        "\n",
        "        \"\"\" Edit 4:\n",
        "            <return list of state neighbors for all actions> \"\"\"\n",
        "        return [(s[0] + u[0], s[1] + u[1]) for u in self.u_set] \n",
        "      #current(s) + left/right/up/down\n",
        "    def cost(self, s_start, s_goal):\n",
        "        \"\"\"\n",
        "        Calculate Cost for this motion\n",
        "        :param s_start: starting node\n",
        "        :param s_goal: end node\n",
        "        :return:  Cost for this motion\n",
        "        :note: Cost function could be more complicated!\n",
        "        \"\"\"\n",
        "\n",
        "        if self.is_collision(s_start, s_goal):\n",
        "            return math.inf\n",
        "\n",
        "        return math.hypot(s_goal[0] - s_start[0], s_goal[1] - s_start[1])\n",
        "\n",
        "    def is_collision(self, s_start, s_end):\n",
        "        \"\"\"\n",
        "        check if the line segment (s_start, s_end) is collision.\n",
        "        :param s_start: start node\n",
        "        :param s_end: end node\n",
        "        :return: True: is collision / False: not collision\n",
        "        \"\"\"\n",
        "        \"\"\"Edit 5:\n",
        "        <check if a collision happened with s_start and s_end> \"\"\"\n",
        "        if s_start in self.obs or s_end in self.obs:\n",
        "          return True\n",
        "        else: \n",
        "          return False\n",
        "    \n",
        "        if s_start[0] != s_end[0] and s_start[1] != s_end[1]:\n",
        "            if s_end[0] - s_start[0] == s_start[1] - s_end[1]:\n",
        "                s1 = (min(s_start[0], s_end[0]), min(s_start[1], s_end[1]))\n",
        "                s2 = (max(s_start[0], s_end[0]), max(s_start[1], s_end[1]))\n",
        "            else:\n",
        "                s1 = (min(s_start[0], s_end[0]), max(s_start[1], s_end[1]))\n",
        "                s2 = (max(s_start[0], s_end[0]), min(s_start[1], s_end[1]))\n",
        "#\n",
        "            if s1 in self.obs or s2 in self.obs:\n",
        "                return True\n",
        "\n",
        "        return False\n",
        "\n",
        "    def f_value(self, s):\n",
        "      \"\"\"\n",
        "      f = g + h. (g: Cost to come, h: heuristic value)\n",
        "      :param s: current state\n",
        "      :return: f\n",
        "      \"\"\"\n",
        "      \"\"\" Edit 6:\n",
        "      <return the f value given g and h> \"\"\"\n",
        "      return self.g[s] + self.heuristic(s)\n",
        "\n",
        "    def extract_path(self, PARENT):\n",
        "        \"\"\"\n",
        "        Extract the path based on the PARENT set.\n",
        "        :return: The planning path\n",
        "        \"\"\"\n",
        "\n",
        "        path = [self.s_goal]\n",
        "        s = self.s_goal\n",
        "\n",
        "        while True:\n",
        "          \"\"\" Edit 7:\n",
        "          <compute the path using PARENT> \"\"\"\n",
        "          s = PARENT[s]\n",
        "          path.append(s)\n",
        "          if s == self.s_start:\n",
        "            break\n",
        "        return list(path)\n",
        "\n",
        "    def heuristic(self, s):\n",
        "        \"\"\"\n",
        "        Calculate heuristic.\n",
        "        :param s: current node (state)\n",
        "        :return: heuristic function value\n",
        "        \"\"\"\n",
        "        heuristic_type = self.heuristic_type  # heuristic type\n",
        "        goal = self.s_goal  # goal node\n",
        "\n",
        "        if heuristic_type == \"manhattan\":\n",
        "          \"\"\" Edit 8:\n",
        "          <return the manhattan distance given the goal and s> \"\"\"\n",
        "          return abs(goal[0] -s[0]) + abs(goal[1] - s[1])\n",
        "            \n",
        "        else:\n",
        "          \"\"\" Edit 9:\n",
        "          <return the eucleadian distance given the goal and s using math library> \"\"\"\n",
        "          return math.hypot(goal[0] - s[0], goal[1] - s[1])\n",
        "\n",
        "def main():\n",
        "    s_start = tuple(position_robot)\n",
        "    s_goal = tuple(position_customers[int(name)])\n",
        "\n",
        "    astar = AStar(s_start, s_goal, \"euclidean\")\n",
        "    \"\"\" Edit 10:\n",
        "    <instantiate the plotting class with the start and end point> \"\"\"\n",
        "    plot = Plotting(s_start, s_goal)\n",
        "\n",
        "    path, visited = astar.searching()\n",
        "    plot.animation(path, visited, \"A*\")  # animation\n",
        "    return path\n",
        "    #path, visited = astar.searching_repeated_astar(2.5)               # initial weight e = 2.5\n",
        "    #plot.animation_ara_star(path, visited, \"Repeated A*\")\n",
        "\n",
        "\n",
        "if __name__ == '__main__':\n",
        "    main()\n",
        "    path = main()"
      ],
      "execution_count": null,
      "outputs": [
        {
          "output_type": "stream",
          "text": [
            "(18, 8)\n",
            "(17, 9)\n",
            "(16, 10)\n",
            "(15, 11)\n",
            "(14, 11)\n",
            "(13, 11)\n",
            "(18, 9)\n",
            "(12, 11)\n",
            "(17, 10)\n",
            "(16, 11)\n",
            "(16, 11)\n",
            "(15, 12)\n",
            "(15, 12)\n",
            "(17, 7)\n",
            "(18, 10)\n",
            "(16, 7)\n",
            "(16, 12)\n",
            "(15, 7)\n",
            "(15, 13)\n",
            "(12, 10)\n",
            "(18, 7)\n",
            "(14, 7)\n",
            "(11, 10)\n",
            "(11, 10)\n",
            "(19, 9)\n",
            "(19, 8)\n",
            "(13, 7)\n",
            "(18, 10)\n",
            "(16, 13)\n",
            "(16, 12)\n",
            "(12, 7)\n",
            "(15, 14)\n",
            "(19, 10)\n",
            "(11, 7)\n",
            "(10, 8)\n",
            "(11, 9)\n",
            "(10, 9)\n",
            "(16, 14)\n",
            "(16, 13)\n",
            "(10, 7)\n",
            "(10, 9)\n",
            "(13, 6)\n",
            "(15, 15)\n",
            "(18, 6)\n",
            "(19, 11)\n",
            "(18, 12)\n",
            "(9, 7)\n",
            "(14, 16)\n",
            "(13, 16)\n",
            "(12, 16)\n",
            "(11, 16)\n",
            "(10, 16)\n",
            "(9, 16)\n",
            "(8, 16)\n",
            "(7, 16)\n",
            "(6, 16)\n",
            "(16, 15)\n",
            "(16, 14)\n",
            "(5, 17)\n",
            "(4, 17)\n",
            "(3, 17)\n",
            "(2, 17)\n",
            "Congrats! You've found the end!\n"
          ],
          "name": "stdout"
        },
        {
          "output_type": "display_data",
          "data": {
            "image/png": "[encoded data removed]",
            "text/plain": [
              "<Figure size 864x576 with 1 Axes>"
            ]
          },
          "metadata": {
            "tags": []
          }
        },
        {
          "output_type": "display_data",
          "data": {
            "image/png": "[encoded data removed]",
            "text/plain": [
              "<Figure size 864x576 with 1 Axes>"
            ]
          },
          "metadata": {
            "tags": []
          }
        },
        {
          "output_type": "display_data",
          "data": {
            "image/png": "[encoded data removed]",
            "text/plain": [
              "<Figure size 864x576 with 1 Axes>"
            ]
          },
          "metadata": {
            "tags": []
          }
        },
        {
          "output_type": "display_data",
          "data": {
            "image/png": "[encoded data removed]",
            "text/plain": [
              "<Figure size 864x576 with 1 Axes>"
            ]
          },
          "metadata": {
            "tags": []
          }
        },
        {
          "output_type": "stream",
          "text": [
            "(18, 8)\n",
            "(17, 9)\n",
            "(16, 10)\n",
            "(15, 11)\n",
            "(14, 11)\n",
            "(13, 11)\n",
            "(18, 9)\n",
            "(12, 11)\n",
            "(17, 10)\n",
            "(16, 11)\n",
            "(16, 11)\n",
            "(15, 12)\n",
            "(15, 12)\n",
            "(17, 7)\n",
            "(18, 10)\n",
            "(16, 7)\n",
            "(16, 12)\n",
            "(15, 7)\n",
            "(15, 13)\n",
            "(12, 10)\n",
            "(18, 7)\n",
            "(14, 7)\n",
            "(11, 10)\n",
            "(11, 10)\n",
            "(19, 9)\n",
            "(19, 8)\n",
            "(13, 7)\n",
            "(18, 10)\n",
            "(16, 13)\n",
            "(16, 12)\n",
            "(12, 7)\n",
            "(15, 14)\n",
            "(19, 10)\n",
            "(11, 7)\n",
            "(10, 8)\n",
            "(11, 9)\n",
            "(10, 9)\n",
            "(16, 14)\n",
            "(16, 13)\n",
            "(10, 7)\n",
            "(10, 9)\n",
            "(13, 6)\n",
            "(15, 15)\n",
            "(18, 6)\n",
            "(19, 11)\n",
            "(18, 12)\n",
            "(9, 7)\n",
            "(14, 16)\n",
            "(13, 16)\n",
            "(12, 16)\n",
            "(11, 16)\n",
            "(10, 16)\n",
            "(9, 16)\n",
            "(8, 16)\n",
            "(7, 16)\n",
            "(6, 16)\n",
            "(16, 15)\n",
            "(16, 14)\n",
            "(5, 17)\n",
            "(4, 17)\n",
            "(3, 17)\n",
            "(2, 17)\n",
            "Congrats! You've found the end!\n"
          ],
          "name": "stdout"
        },
        {
          "output_type": "display_data",
          "data": {
            "image/png": "[encoded data removed]",
            "text/plain": [
              "<Figure size 864x576 with 1 Axes>"
            ]
          },
          "metadata": {
            "tags": []
          }
        },
        {
          "output_type": "display_data",
          "data": {
            "image/png": "[encoded data removed]",
            "text/plain": [
              "<Figure size 864x576 with 1 Axes>"
            ]
          },
          "metadata": {
            "tags": []
          }
        },
        {
          "output_type": "display_data",
          "data": {
            "image/png": "[encoded data removed]",
            "text/plain": [
              "<Figure size 864x576 with 1 Axes>"
            ]
          },
          "metadata": {
            "tags": []
          }
        },
        {
          "output_type": "display_data",
          "data": {
            "image/png": "[encoded data removed]",
            "text/plain": [
              "<Figure size 864x576 with 1 Axes>"
            ]
          },
          "metadata": {
            "tags": []
          }
        }
      ]
    },
    {
      "cell_type": "code",
      "metadata": {
        "id": "702XKznGAZf4"
      },
      "source": [
        "import matplotlib.pyplot as plt\n",
        "import matplotlib.patches as patches\n",
        "import os\n",
        "import sys\n",
        "\n",
        "class Plotting:\n",
        "    def __init__(self, x_start, x_goal):\n",
        "        self.xI, self.xG = x_start, x_goal\n",
        "        self.env = Env()\n",
        "        self.obs_bound = self.env.obs_boundary\n",
        "        self.obs_circle = self.env.obs_circle\n",
        "        self.obs_rectangle = self.env.obs_rectangle\n",
        "\n",
        "    def animation(self, nodelist, path, name, animation=False):\n",
        "        self.plot_grid(name)\n",
        "        self.plot_visited(nodelist, animation)\n",
        "        self.plot_path(path)\n",
        "\n",
        "    def animation_connect(self, V1, V2, path, name):\n",
        "        self.plot_grid(name)\n",
        "        self.plot_visited_connect(V1, V2)\n",
        "        self.plot_path(path)\n",
        "\n",
        "    def plot_grid(self, name):\n",
        "        fig, ax = plt.subplots()\n",
        "\n",
        "        for (ox, oy, w, h) in self.obs_bound:\n",
        "            ax.add_patch(\n",
        "                patches.Rectangle(\n",
        "                    (ox, oy), w, h,\n",
        "                    edgecolor='black',\n",
        "                    facecolor='black',\n",
        "                    fill=True\n",
        "                )\n",
        "            )\n",
        "\n",
        "        for (ox, oy, w, h) in self.obs_rectangle:\n",
        "            ax.add_patch(\n",
        "                patches.Rectangle(\n",
        "                    (ox, oy), w, h,\n",
        "                    edgecolor='black',\n",
        "                    facecolor='gray',\n",
        "                    fill=True\n",
        "                )\n",
        "            )\n",
        "\n",
        "        for (ox, oy, r) in self.obs_circle:\n",
        "            ax.add_patch(\n",
        "                patches.Circle(\n",
        "                    (ox, oy), r,\n",
        "                    edgecolor='black',\n",
        "                    facecolor='gray',\n",
        "                    fill=True\n",
        "                )\n",
        "            )\n",
        "\n",
        "        plt.plot(self.xI[0], self.xI[1], \"bs\", linewidth=3)\n",
        "        plt.plot(self.xG[0], self.xG[1], \"gs\", linewidth=3)\n",
        "\n",
        "        plt.title(name)\n",
        "        plt.axis(\"equal\")\n",
        "\n",
        "    @staticmethod\n",
        "    def plot_visited(nodelist, animation):\n",
        "        if animation:\n",
        "            count = 0\n",
        "            for node in nodelist:\n",
        "                count += 1\n",
        "                if node.parent:\n",
        "                    plt.plot([node.parent.x, node.x], [node.parent.y, node.y], \"-g\")\n",
        "                    plt.gcf().canvas.mpl_connect('key_release_event',\n",
        "                                                 lambda event:\n",
        "                                                 [exit(0) if event.key == 'escape' else None])\n",
        "                    if count % 10 == 0:\n",
        "                        plt.pause(0.001)\n",
        "        else:\n",
        "            for node in nodelist:\n",
        "                if node.parent:\n",
        "                    plt.plot([node.parent.x, node.x], [node.parent.y, node.y], \"-g\")\n",
        "\n",
        "    @staticmethod\n",
        "    def plot_visited_connect(V1, V2):\n",
        "        len1, len2 = len(V1), len(V2)\n",
        "\n",
        "        for k in range(max(len1, len2)):\n",
        "            if k < len1:\n",
        "                if V1[k].parent:\n",
        "                    plt.plot([V1[k].x, V1[k].parent.x], [V1[k].y, V1[k].parent.y], \"-g\")\n",
        "            if k < len2:\n",
        "                if V2[k].parent:\n",
        "                    plt.plot([V2[k].x, V2[k].parent.x], [V2[k].y, V2[k].parent.y], \"-g\")\n",
        "\n",
        "            plt.gcf().canvas.mpl_connect('key_release_event',\n",
        "                                         lambda event: [exit(0) if event.key == 'escape' else None])\n",
        "\n",
        "            if k % 2 == 0:\n",
        "                plt.pause(0.001)\n",
        "\n",
        "        plt.pause(0.01)\n",
        "\n",
        "    @staticmethod\n",
        "    def plot_path(path):\n",
        "        if len(path) != 0:\n",
        "            plt.plot([x[0] for x in path], [x[1] for x in path], '-r', linewidth=2)\n",
        "            plt.pause(0.01)\n",
        "        plt.show()"
      ],
      "execution_count": null,
      "outputs": []
    },
    {
      "cell_type": "code",
      "metadata": {
        "colab": {
          "base_uri": "https://localhost:8080/",
          "height": 1000
        },
        "id": "0RKLZqd2whJ9",
        "outputId": "8dbc5017-0475-4888-83b0-f1b205eeb8fd"
      },
      "source": [
        "import os\n",
        "import sys\n",
        "import math\n",
        "import numpy as np\n",
        "\n",
        "import matplotlib.pyplot as plt\n",
        "import matplotlib.patches as patches\n",
        "\n",
        "\n",
        "#####\n",
        "class Plotting:\n",
        "    def __init__(self, x_start, x_goal):\n",
        "        self.xI, self.xG = x_start, x_goal\n",
        "        self.env = Env()\n",
        "        self.obs_bound = self.env.obs_boundary\n",
        "        self.obs_circle = self.env.obs_circle\n",
        "        self.obs_rectangle = self.env.obs_rectangle\n",
        "\n",
        "    def animation(self, nodelist, path, name, animation=False):\n",
        "        self.plot_grid(name)\n",
        "        self.plot_visited(nodelist, animation)\n",
        "        self.plot_path(path)\n",
        "\n",
        "    def animation_connect(self, V1, V2, path, name):\n",
        "        self.plot_grid(name)\n",
        "        self.plot_visited_connect(V1, V2)\n",
        "        self.plot_path(path)\n",
        "\n",
        "    def plot_grid(self, name):\n",
        "        fig, ax = plt.subplots()\n",
        "\n",
        "        for (ox, oy, w, h) in self.obs_bound:\n",
        "            ax.add_patch(\n",
        "                patches.Rectangle(\n",
        "                    (ox, oy), w, h,\n",
        "                    edgecolor='black',\n",
        "                    facecolor='black',\n",
        "                    fill=True\n",
        "                )\n",
        "            )\n",
        "\n",
        "        for (ox, oy, w, h) in self.obs_rectangle:\n",
        "            ax.add_patch(\n",
        "                patches.Rectangle(\n",
        "                    (ox, oy), w, h,\n",
        "                    edgecolor='black',\n",
        "                    facecolor='gray',\n",
        "                    fill=True\n",
        "                )\n",
        "            )\n",
        "\n",
        "        for (ox, oy, r) in self.obs_circle:\n",
        "            ax.add_patch(\n",
        "                patches.Circle(\n",
        "                    (ox, oy), r,\n",
        "                    edgecolor='black',\n",
        "                    facecolor='gray',\n",
        "                    fill=True\n",
        "                )\n",
        "            )\n",
        "\n",
        "        plt.plot(self.xI[0], self.xI[1], \"bs\", linewidth=3)\n",
        "        plt.plot(self.xG[0], self.xG[1], \"gs\", linewidth=3)\n",
        "\n",
        "        plt.title(name)\n",
        "        plt.axis(\"equal\")\n",
        "\n",
        "    @staticmethod\n",
        "    def plot_visited(nodelist, animation):\n",
        "        if animation:\n",
        "            count = 0\n",
        "            for node in nodelist:\n",
        "                count += 1\n",
        "                if node.parent:\n",
        "                    plt.plot([node.parent.x, node.x], [node.parent.y, node.y], \"-g\")\n",
        "                    plt.gcf().canvas.mpl_connect('key_release_event',\n",
        "                                                 lambda event:\n",
        "                                                 [exit(0) if event.key == 'escape' else None])\n",
        "                    if count % 10 == 0:\n",
        "                        plt.pause(0.001)\n",
        "        else:\n",
        "            for node in nodelist:\n",
        "                if node.parent:\n",
        "                    plt.plot([node.parent.x, node.x], [node.parent.y, node.y], \"-g\")\n",
        "\n",
        "    @staticmethod\n",
        "    def plot_visited_connect(V1, V2):\n",
        "        len1, len2 = len(V1), len(V2)\n",
        "\n",
        "        for k in range(max(len1, len2)):\n",
        "            if k < len1:\n",
        "                if V1[k].parent:\n",
        "                    plt.plot([V1[k].x, V1[k].parent.x], [V1[k].y, V1[k].parent.y], \"-g\")\n",
        "            if k < len2:\n",
        "                if V2[k].parent:\n",
        "                    plt.plot([V2[k].x, V2[k].parent.x], [V2[k].y, V2[k].parent.y], \"-g\")\n",
        "\n",
        "            plt.gcf().canvas.mpl_connect('key_release_event',\n",
        "                                         lambda event: [exit(0) if event.key == 'escape' else None])\n",
        "\n",
        "            if k % 2 == 0:\n",
        "                plt.pause(0.001)\n",
        "\n",
        "        plt.pause(0.01)\n",
        "\n",
        "    @staticmethod\n",
        "    def plot_path(path):\n",
        "        if len(path) != 0:\n",
        "            plt.plot([x[0] for x in path], [x[1] for x in path], '-r', linewidth=2)\n",
        "            plt.pause(0.01)\n",
        "        plt.show()\n",
        "#####\n",
        "\n",
        "class Env:\n",
        "    def __init__(self):\n",
        "        self.x_range = (0, 50)\n",
        "        self.y_range = (0, 30)\n",
        "        self.obs_boundary = self.obs_boundary()\n",
        "        self.obs_circle = self.obs_circle()\n",
        "        self.obs_rectangle = self.obs_rectangle()\n",
        "\n",
        "    @staticmethod\n",
        "    def obs_boundary():\n",
        "        obs_boundary = [\n",
        "            [0, 0, 1, 30],\n",
        "            [0, 30, 50, 1],\n",
        "            [1, 0, 50, 1],\n",
        "            [50, 1, 1, 30]\n",
        "        ]\n",
        "        return obs_boundary\n",
        "\n",
        "    @staticmethod\n",
        "    def obs_rectangle():\n",
        "        obs_rectangle = [\n",
        "            [14, 12, 8, 2],\n",
        "            [18, 22, 8, 3],\n",
        "            [26, 7, 2, 12],\n",
        "            [32, 14, 10, 2]\n",
        "        ]\n",
        "        return obs_rectangle\n",
        "\n",
        "    @staticmethod\n",
        "    def obs_circle():\n",
        "        obs_cir = [\n",
        "            [7, 12, 3],\n",
        "            [46, 20, 2],\n",
        "            [15, 5, 2],\n",
        "            [37, 7, 3],\n",
        "            [37, 23, 3]\n",
        "        ]\n",
        "\n",
        "        return obs_cir\n",
        "\n",
        "class Utils:\n",
        "    def __init__(self):\n",
        "        self.env = Env()\n",
        "\n",
        "        self.delta = 0.5\n",
        "        self.obs_circle = self.env.obs_circle\n",
        "        self.obs_rectangle = self.env.obs_rectangle\n",
        "        self.obs_boundary = self.env.obs_boundary\n",
        "\n",
        "    def update_obs(self, obs_cir, obs_bound, obs_rec):\n",
        "        self.obs_circle = obs_cir\n",
        "        self.obs_boundary = obs_bound\n",
        "        self.obs_rectangle = obs_rec\n",
        "\n",
        "    def get_obs_vertex(self):\n",
        "        delta = self.delta\n",
        "        obs_list = []\n",
        "\n",
        "        for (ox, oy, w, h) in self.obs_rectangle:\n",
        "            vertex_list = [[ox - delta, oy - delta],\n",
        "                           [ox + w + delta, oy - delta],\n",
        "                           [ox + w + delta, oy + h + delta],\n",
        "                           [ox - delta, oy + h + delta]]\n",
        "            obs_list.append(vertex_list)\n",
        "\n",
        "        return obs_list\n",
        "\n",
        "    def is_intersect_rec(self, start, end, o, d, a, b):\n",
        "        v1 = [o[0] - a[0], o[1] - a[1]]\n",
        "        v2 = [b[0] - a[0], b[1] - a[1]]\n",
        "        v3 = [-d[1], d[0]]\n",
        "\n",
        "        div = np.dot(v2, v3)\n",
        "\n",
        "        if div == 0:\n",
        "            return False\n",
        "\n",
        "        t1 = np.linalg.norm(np.cross(v2, v1)) / div\n",
        "        t2 = np.dot(v1, v3) / div\n",
        "\n",
        "        if t1 >= 0 and 0 <= t2 <= 1:\n",
        "            shot = Node((o[0] + t1 * d[0], o[1] + t1 * d[1]))\n",
        "            dist_obs = self.get_dist(start, shot)\n",
        "            dist_seg = self.get_dist(start, end)\n",
        "            if dist_obs <= dist_seg:\n",
        "                return True\n",
        "\n",
        "        return False\n",
        "\n",
        "    def is_intersect_circle(self, o, d, a, r):\n",
        "        d2 = np.dot(d, d)\n",
        "        delta = self.delta\n",
        "\n",
        "        if d2 == 0:\n",
        "            return False\n",
        "\n",
        "        t = np.dot([a[0] - o[0], a[1] - o[1]], d) / d2\n",
        "\n",
        "        if 0 <= t <= 1:\n",
        "            shot = Node((o[0] + t * d[0], o[1] + t * d[1]))\n",
        "            if self.get_dist(shot, Node(a)) <= r + delta:\n",
        "                return True\n",
        "\n",
        "        return False\n",
        "\n",
        "    def is_collision(self, start, end):\n",
        "        if self.is_inside_obs(start) or self.is_inside_obs(end):\n",
        "            return True\n",
        "\n",
        "        o, d = self.get_ray(start, end)\n",
        "        obs_vertex = self.get_obs_vertex()\n",
        "\n",
        "        for (v1, v2, v3, v4) in obs_vertex:\n",
        "            if self.is_intersect_rec(start, end, o, d, v1, v2):\n",
        "                return True\n",
        "            if self.is_intersect_rec(start, end, o, d, v2, v3):\n",
        "                return True\n",
        "            if self.is_intersect_rec(start, end, o, d, v3, v4):\n",
        "                return True\n",
        "            if self.is_intersect_rec(start, end, o, d, v4, v1):\n",
        "                return True\n",
        "\n",
        "        for (x, y, r) in self.obs_circle:\n",
        "            if self.is_intersect_circle(o, d, [x, y], r):\n",
        "                return True\n",
        "\n",
        "        return False\n",
        "\n",
        "    def is_inside_obs(self, node):\n",
        "        delta = self.delta\n",
        "\n",
        "        for (x, y, r) in self.obs_circle:\n",
        "            if math.hypot(node.x - x, node.y - y) <= r + delta:\n",
        "                return True\n",
        "\n",
        "        for (x, y, w, h) in self.obs_rectangle:\n",
        "            if 0 <= node.x - (x - delta) <= w + 2 * delta \\\n",
        "                    and 0 <= node.y - (y - delta) <= h + 2 * delta:\n",
        "                return True\n",
        "\n",
        "        for (x, y, w, h) in self.obs_boundary:\n",
        "            if 0 <= node.x - (x - delta) <= w + 2 * delta \\\n",
        "                    and 0 <= node.y - (y - delta) <= h + 2 * delta:\n",
        "                return True\n",
        "\n",
        "        return False\n",
        "\n",
        "    @staticmethod\n",
        "    def get_ray(start, end):\n",
        "        orig = [start.x, start.y]\n",
        "        direc = [end.x - start.x, end.y - start.y]\n",
        "        return orig, direc\n",
        "\n",
        "    @staticmethod\n",
        "    def get_dist(start, end):\n",
        "        return math.hypot(end.x - start.x, end.y - start.y)\n",
        "\n",
        "class Node:\n",
        "    def __init__(self, n):\n",
        "        self.x = n[0]\n",
        "        self.y = n[1]\n",
        "        self.parent = None\n",
        "\n",
        "\n",
        "class Rrt:\n",
        "    def __init__(self, s_start, s_goal, step_len, goal_sample_rate, iter_max):\n",
        "        self.s_start = Node(s_start)\n",
        "        self.s_goal = Node(s_goal)\n",
        "        self.step_len = step_len\n",
        "        self.goal_sample_rate = goal_sample_rate\n",
        "        self.iter_max = iter_max\n",
        "        self.vertex = [self.s_start]\n",
        "\n",
        "        self.env = Env()\n",
        "        self.plotting = Plotting(s_start, s_goal)\n",
        "        self.utils = Utils()\n",
        "\n",
        "        self.x_range = self.env.x_range\n",
        "        self.y_range = self.env.y_range\n",
        "        self.obs_circle = self.env.obs_circle\n",
        "        self.obs_rectangle = self.env.obs_rectangle\n",
        "        self.obs_boundary = self.env.obs_boundary\n",
        "\n",
        "    def planning(self):\n",
        "        for i in range(self.iter_max):\n",
        "            node_rand = self.generate_random_node(self.goal_sample_rate)\n",
        "            node_near = self.nearest_neighbor(self.vertex, node_rand)\n",
        "            node_new = self.new_state(node_near, node_rand)\n",
        "\n",
        "            if node_new and not self.utils.is_collision(node_near, node_new):\n",
        "                self.vertex.append(node_new)\n",
        "                dist, _ = self.get_distance_and_angle(node_new, self.s_goal)\n",
        "\n",
        "                if dist <= self.step_len and not self.utils.is_collision(node_new, self.s_goal):\n",
        "                    self.new_state(node_new, self.s_goal)\n",
        "                    return self.extract_path(node_new)\n",
        "\n",
        "        return None\n",
        "\n",
        "    def generate_random_node(self, goal_sample_rate):\n",
        "        delta = self.utils.delta\n",
        "\n",
        "        if np.random.random() > goal_sample_rate:\n",
        "            return Node((np.random.uniform(self.x_range[0] + delta, self.x_range[1] - delta),\n",
        "                         np.random.uniform(self.y_range[0] + delta, self.y_range[1] - delta)))\n",
        "\n",
        "        return self.s_goal\n",
        "\n",
        "    @staticmethod\n",
        "    def nearest_neighbor(node_list, n):\n",
        "        return node_list[int(np.argmin([math.hypot(nd.x - n.x, nd.y - n.y)\n",
        "                                        for nd in node_list]))]\n",
        "\n",
        "    def new_state(self, node_start, node_end):\n",
        "        dist, theta = self.get_distance_and_angle(node_start, node_end)\n",
        "\n",
        "        dist = min(self.step_len, dist)\n",
        "        node_new = Node((node_start.x + dist * math.cos(theta),\n",
        "                         node_start.y + dist * math.sin(theta)))\n",
        "        node_new.parent = node_start\n",
        "\n",
        "        return node_new\n",
        "\n",
        "    def extract_path(self, node_end):\n",
        "        path = [(self.s_goal.x, self.s_goal.y)]\n",
        "        node_now = node_end\n",
        "\n",
        "        while node_now.parent is not None:\n",
        "            node_now = node_now.parent\n",
        "            path.append((node_now.x, node_now.y))\n",
        "\n",
        "        return path\n",
        "\n",
        "    @staticmethod\n",
        "    def get_distance_and_angle(node_start, node_end):\n",
        "        dx = node_end.x - node_start.x\n",
        "        dy = node_end.y - node_start.y\n",
        "        return math.hypot(dx, dy), math.atan2(dy, dx)\n",
        "\n",
        "\n",
        "def main():\n",
        "    x_start = tuple(position_robot)  # Starting node\n",
        "    x_goal = tuple(position_customers[int(name)])  # Goal node\n",
        "\n",
        "    rrt = Rrt(x_start, x_goal, 0.5, 0.05, 10000)\n",
        "    path = rrt.planning()\n",
        "\n",
        "    if path:\n",
        "        rrt.plotting.animation(rrt.vertex, path, \"RRT\", True)\n",
        "    else:\n",
        "        print(\"No Path Found!\")\n",
        "\n",
        "\n",
        "if __name__ == '__main__':\n",
        "    main()"
      ],
      "execution_count": null,
      "outputs": [
        {
          "output_type": "display_data",
          "data": {
            "image/png": "[encoded data removed]",
            "text/plain": [
              "<Figure size 864x576 with 1 Axes>"
            ]
          },
          "metadata": {
            "tags": []
          }
        },
        {
          "output_type": "display_data",
          "data": {
            "image/png": "[encoded data removed]",
            "text/plain": [
              "<Figure size 864x576 with 1 Axes>"
            ]
          },
          "metadata": {
            "tags": []
          }
        },
        {
          "output_type": "display_data",
          "data": {
            "image/png": "[encoded data removed]",
            "text/plain": [
              "<Figure size 864x576 with 1 Axes>"
            ]
          },
          "metadata": {
            "tags": []
          }
        },
        {
          "output_type": "display_data",
          "data": {
            "image/png": "[encoded data removed]",
            "text/plain": [
              "<Figure size 864x576 with 1 Axes>"
            ]
          },
          "metadata": {
            "tags": []
          }
        },
        {
          "output_type": "display_data",
          "data": {
            "image/png": "[encoded data removed]",
            "text/plain": [
              "<Figure size 864x576 with 1 Axes>"
            ]
          },
          "metadata": {
            "tags": []
          }
        },
        {
          "output_type": "display_data",
          "data": {
            "image/png": "[encoded data removed]",
            "text/plain": [
              "<Figure size 864x576 with 1 Axes>"
            ]
          },
          "metadata": {
            "tags": []
          }
        },
        {
          "output_type": "display_data",
          "data": {
            "image/png": "[encoded data removed]",
            "text/plain": [
              "<Figure size 864x576 with 1 Axes>"
            ]
          },
          "metadata": {
            "tags": []
          }
        },
        {
          "output_type": "display_data",
          "data": {
            "image/png": "[encoded data removed]",
            "text/plain": [
              "<Figure size 864x576 with 1 Axes>"
            ]
          },
          "metadata": {
            "tags": []
          }
        },
        {
          "output_type": "display_data",
          "data": {
            "image/png": "[encoded data removed]",
            "text/plain": [
              "<Figure size 864x576 with 1 Axes>"
            ]
          },
          "metadata": {
            "tags": []
          }
        },
        {
          "output_type": "display_data",
          "data": {
            "image/png": "[encoded data removed]",
            "text/plain": [
              "<Figure size 864x576 with 1 Axes>"
            ]
          },
          "metadata": {
            "tags": []
          }
        },
        {
          "output_type": "display_data",
          "data": {
            "image/png": "[encoded data removed]",
            "text/plain": [
              "<Figure size 864x576 with 1 Axes>"
            ]
          },
          "metadata": {
            "tags": []
          }
        },
        {
          "output_type": "display_data",
          "data": {
            "image/png": "[encoded data removed]",
            "text/plain": [
              "<Figure size 864x576 with 1 Axes>"
            ]
          },
          "metadata": {
            "tags": []
          }
        },
        {
          "output_type": "display_data",
          "data": {
            "image/png": "[encoded data removed]",
            "text/plain": [
              "<Figure size 864x576 with 1 Axes>"
            ]
          },
          "metadata": {
            "tags": []
          }
        },
        {
          "output_type": "display_data",
          "data": {
            "image/png": "[encoded data removed]",
            "text/plain": [
              "<Figure size 864x576 with 1 Axes>"
            ]
          },
          "metadata": {
            "tags": []
          }
        },
        {
          "output_type": "display_data",
          "data": {
            "image/png": "[encoded data removed]",
            "text/plain": [
              "<Figure size 864x576 with 1 Axes>"
            ]
          },
          "metadata": {
            "tags": []
          }
        },
        {
          "output_type": "display_data",
          "data": {
            "image/png": "[encoded data removed]",
            "text/plain": [
              "<Figure size 864x576 with 1 Axes>"
            ]
          },
          "metadata": {
            "tags": []
          }
        },
        {
          "output_type": "display_data",
          "data": {
            "image/png": "[encoded data removed]",
            "text/plain": [
              "<Figure size 864x576 with 1 Axes>"
            ]
          },
          "metadata": {
            "tags": []
          }
        },
        {
          "output_type": "display_data",
          "data": {
            "image/png": "[encoded data removed]",
            "text/plain": [
              "<Figure size 864x576 with 1 Axes>"
            ]
          },
          "metadata": {
            "tags": []
          }
        }
      ]
    },
    {
      "cell_type": "markdown",
      "metadata": {
        "id": "VC4PZloI5aGS"
      },
      "source": [
        "Discuss and implement a suitable method to visualize your results."
      ]
    },
    {
      "cell_type": "code",
      "metadata": {
        "id": "K8g1ubH85kjW",
        "colab": {
          "base_uri": "https://localhost:8080/"
        },
        "outputId": "d14cf5d5-11a9-42f4-8452-b3b221167f33"
      },
      "source": [
        "# install\n",
        "\n",
        "%matplotlib inline\n",
        "import numpy as np\n",
        "import matplotlib.pyplot as plt\n",
        "\n",
        "from matplotlib import animation, rc\n",
        "from IPython.display import HTML, Image\n",
        "\n",
        "# equivalent to rcParams['animation.html'] = 'html5'\n",
        "rc('animation', html='html5')\n",
        "\n",
        "!apt install imagemagick"
      ],
      "execution_count": null,
      "outputs": [
        {
          "output_type": "stream",
          "text": [
            "Reading package lists... Done\n",
            "Building dependency tree       \n",
            "Reading state information... Done\n",
            "imagemagick is already the newest version (8:6.9.7.4+dfsg-16ubuntu6.11).\n",
            "0 upgraded, 0 newly installed, 0 to remove and 40 not upgraded.\n"
          ],
          "name": "stdout"
        }
      ]
    },
    {
      "cell_type": "code",
      "metadata": {
        "colab": {
          "base_uri": "https://localhost:8080/",
          "height": 466
        },
        "id": "2i-Fc4-UKTYS",
        "outputId": "f1cdd5b3-0adf-4b60-b4d4-496958847539"
      },
      "source": [
        "import numpy as np\n",
        "import matplotlib.pyplot as plt\n",
        "from matplotlib.offsetbox import OffsetImage, AnnotationBbox\n",
        "from matplotlib.cbook import get_sample_data\n",
        "\n",
        "def main(positions, image_paths):\n",
        "    x = positions[:, 0]\n",
        "    y = positions[:, 1]\n",
        "    fig, ax = plt.subplots()\n",
        "    ax.imshow(np.flipud(floorplan.T), extent=figure_bounds, cmap='Greys_r')          # images and matrixes are indexed differently. Use this to plot floorplan image.\n",
        "    ax.scatter(position_robot[0], position_robot[1], c='b')\n",
        "    imscatter(x, y, image_paths, zoom=0.05, ax=ax)\n",
        "    ax.scatter(x, y, color='r')\n",
        "    #plt.show()\n",
        "\n",
        "def imscatter(x, y, images, ax=None, zoom=1):\n",
        "    # display the relevent images at each (x, y) location\n",
        "    if ax is None:\n",
        "        ax = plt.gca()\n",
        "\n",
        "    x, y = np.atleast_1d(x, y)\n",
        "    artists = []\n",
        "    for x0, y0, i0 in zip(x, y, images):\n",
        "        try:\n",
        "          img = plt.imread(i0)\n",
        "        except TypeError:\n",
        "          # Likely already an array...\n",
        "          pass\n",
        "        im = OffsetImage(img, zoom=zoom)\n",
        "        ab = AnnotationBbox(im, (x0, y0), xycoords='data', frameon=False)\n",
        "        artists.append(ax.add_artist(ab))\n",
        "    ax.update_datalim(np.column_stack([x, y]))\n",
        "    ax.autoscale()\n",
        "    return artists\n",
        "\n",
        "\n",
        "positions = position_customers\n",
        "image_paths = []\n",
        "for i in range(len(position_customers)):\n",
        "  image_paths.append(os.path.join(f\"customers/{i}\", os.listdir(f\"customers/{i}\")[0]))\n",
        "\"\"\" # example for reading image paths\n",
        "image_paths = []\n",
        "for i in range(len(position_customers)):\n",
        "  image_paths.append(os.path.join(f\"customers/{i}\", os.listdir(f\"customers/{i}\")[0]))\n",
        "\"\"\"\n",
        "\n",
        "main(positions, image_paths)"
      ],
      "execution_count": null,
      "outputs": [
        {
          "output_type": "display_data",
          "data": {
            "image/png": "[encoded data removed]",
            "text/plain": [
              "<Figure size 864x576 with 1 Axes>"
            ]
          },
          "metadata": {
            "tags": []
          }
        }
      ]
    },
    {
      "cell_type": "code",
      "metadata": {
        "colab": {
          "base_uri": "https://localhost:8080/",
          "height": 466
        },
        "id": "bAov8ksgK0xd",
        "outputId": "520fb941-d322-42ca-f67a-54e73777b4b4"
      },
      "source": [
        "# First set up the figure, the axis, and the plot element we want to animate\n",
        "fig, ax = plt.subplots()\n",
        "\n",
        "# values\n",
        "obstacles = np.asarray(np.where(floorplan == 0)).T\n",
        "obs = set()\n",
        "for i in range(len(obstacles)):\n",
        "  obs.add((obstacles[i, 0], obstacles[i, 1]))\n",
        "s_start = tuple(position_robot)\n",
        "s_goal = tuple(position_customers[int(name)])\n",
        "result = path\n",
        "result = np.asarray(result)\n",
        "# visited = # write code - list of visited nodes\n",
        "\n",
        "# unanimated parts of plot\n",
        "obs_x = [x[0] for x in obstacles]\n",
        "obs_y = [x[1] for x in obstacles]\n",
        "ax.plot(obs_x, obs_y, \"sk\")\n",
        "\n",
        "ax.plot(s_start[0], s_start[1], \"rs\")\n",
        "ax.plot(s_goal[0], s_goal[1], \"bs\")\n",
        "plt.axis('equal')\n",
        "\n",
        "# v_x = [x[0] for x in visited]\n",
        "# v_y = [x[1] for x in visited]\n",
        "# ax.scatter(v_x, v_y, color='grey')\n",
        "imscatter(positions[:, 0], positions[:, 1], image_paths, zoom=0.045, ax=ax)\n",
        "# line to animate\n",
        "line, = ax.plot([], [], lw=2)\n",
        "\n",
        "def init():\n",
        "    line.set_data([], [])\n",
        "    return (line,)\n",
        "    \n",
        "def animate(i):\n",
        "    # at time i, draw from 0th frame to ith frame \n",
        "    line.set_data(result[:i, 0], result[:i, 1])\n",
        "    return (line,)\n",
        "\n",
        "# call the animator. blit=True means only re-draw the parts that \n",
        "# have changed.\n",
        "anim = animation.FuncAnimation(fig, animate, init_func=init,\n",
        "                               frames=100, interval=20, blit=True)"
      ],
      "execution_count": null,
      "outputs": [
        {
          "output_type": "display_data",
          "data": {
            "image/png": "[encoded data removed]",
            "text/plain": [
              "<Figure size 864x576 with 1 Axes>"
            ]
          },
          "metadata": {
            "tags": []
          }
        }
      ]
    },
    {
      "cell_type": "code",
      "metadata": {
        "colab": {
          "base_uri": "https://localhost:8080/",
          "height": 238
        },
        "id": "Qk74pOcfK1_J",
        "outputId": "fd6fc2af-91b1-4186-ccb8-2a85112cb33f"
      },
      "source": [
        "# display\n",
        "anim\n",
        "\n",
        "## save animation\n",
        "#anim.save('animation.gif', writer='imagemagick', fps=60)"
      ],
      "execution_count": null,
      "outputs": [
        {
          "output_type": "error",
          "ename": "NameError",
          "evalue": "ignored",
          "traceback": [
            "\u001b[0;31m---------------------------------------------------------------------------\u001b[0m",
            "\u001b[0;31mNameError\u001b[0m                                 Traceback (most recent call last)",
            "\u001b[0;32m<ipython-input-13-da6b53eb3c80>\u001b[0m in \u001b[0;36m<module>\u001b[0;34m()\u001b[0m\n\u001b[1;32m      1\u001b[0m \u001b[0;31m# display\u001b[0m\u001b[0;34m\u001b[0m\u001b[0;34m\u001b[0m\u001b[0;34m\u001b[0m\u001b[0m\n\u001b[0;32m----> 2\u001b[0;31m \u001b[0manim\u001b[0m\u001b[0;34m\u001b[0m\u001b[0;34m\u001b[0m\u001b[0m\n\u001b[0m\u001b[1;32m      3\u001b[0m \u001b[0;34m\u001b[0m\u001b[0m\n\u001b[1;32m      4\u001b[0m \u001b[0;31m## save animation\u001b[0m\u001b[0;34m\u001b[0m\u001b[0;34m\u001b[0m\u001b[0;34m\u001b[0m\u001b[0m\n\u001b[1;32m      5\u001b[0m \u001b[0;31m#anim.save('animation.gif', writer='imagemagick', fps=60)\u001b[0m\u001b[0;34m\u001b[0m\u001b[0;34m\u001b[0m\u001b[0;34m\u001b[0m\u001b[0m\n",
            "\u001b[0;31mNameError\u001b[0m: name 'anim' is not defined"
          ]
        }
      ]
    },
    {
      "cell_type": "code",
      "metadata": {
        "id": "VCiUUMZMR3iJ"
      },
      "source": [],
      "execution_count": null,
      "outputs": []
    }
  ]
}